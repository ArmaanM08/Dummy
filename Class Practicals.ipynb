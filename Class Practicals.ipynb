{
 "cells": [
  {
   "cell_type": "code",
   "execution_count": null,
   "metadata": {},
   "outputs": [],
   "source": [
    "row = int(input(\"Enter number of rows: \"))\n",
    "for i in range (row, -1):\n",
    "    print(\"*\",end = \" \")"
   ]
  },
  {
   "cell_type": "code",
   "execution_count": 1,
   "metadata": {},
   "outputs": [
    {
     "name": "stdout",
     "output_type": "stream",
     "text": [
      "    *\n",
      "   ***\n",
      "  *****\n",
      " *******\n",
      "*********\n"
     ]
    }
   ],
   "source": [
    "#Pyramid star pattern\n",
    "rows = int(input(\"Enter number of rows: \"))\n",
    "for i in range(rows):\n",
    "    for j in range(rows-i-1):\n",
    "        print(\" \",end = \"\")\n",
    "    for z in range(2*i+1):\n",
    "        print(\"*\",end = \"\")\n",
    "    print()"
   ]
  },
  {
   "cell_type": "code",
   "execution_count": 3,
   "metadata": {},
   "outputs": [
    {
     "name": "stdout",
     "output_type": "stream",
     "text": [
      "210\n"
     ]
    }
   ],
   "source": [
    "sum = 0\n",
    "for i in range(21):\n",
    "    if i in range(5,15):\n",
    "        continue\n",
    "    sum+= i\n",
    "print(sum)"
   ]
  },
  {
   "cell_type": "code",
   "execution_count": 4,
   "metadata": {},
   "outputs": [
    {
     "name": "stdout",
     "output_type": "stream",
     "text": [
      "Element found\n"
     ]
    }
   ],
   "source": [
    "ls = [10,20,30,40,50,60,70]\n",
    "search_ele = int(input(\"Enter a number:\"))\n",
    "for ele in ls:\n",
    "    if search_ele == ele:\n",
    "        print(\"Element found\")\n",
    "        break\n",
    "    else:\n",
    "        print(\"Element not found\") "
   ]
  },
  {
   "cell_type": "code",
   "execution_count": 6,
   "metadata": {},
   "outputs": [
    {
     "name": "stdout",
     "output_type": "stream",
     "text": [
      "3\n"
     ]
    }
   ],
   "source": [
    "import array\n",
    "a = array.array(\"i\",[1,2,3,4,5,6,7])\n",
    "print(a[2])"
   ]
  },
  {
   "cell_type": "code",
   "execution_count": 11,
   "metadata": {},
   "outputs": [
    {
     "name": "stdout",
     "output_type": "stream",
     "text": [
      "H-e-l-l-o- -W-o-r-l-d-['H', 'e', 'l', 'l', 'o', ' ', 'W', 'o', 'r', 'l', 'd']\n"
     ]
    }
   ],
   "source": [
    "s = \"Hello World\"\n",
    "for i in s:\n",
    "    print(i,end=\"-\")\n",
    "print(list(s))"
   ]
  },
  {
   "cell_type": "code",
   "execution_count": 12,
   "metadata": {},
   "outputs": [
    {
     "name": "stdout",
     "output_type": "stream",
     "text": [
      "Array before insertion:  1 2 3 \n",
      "Array after insertion:  array('i', [1, 4, 2, 3])\n"
     ]
    }
   ],
   "source": [
    "import array as arr\n",
    "a = arr.array('i',[1,2,3])\n",
    "print(\"Array before insertion: \", end = \" \")\n",
    "for i in range(0,3):\n",
    "    print(a[i],end = \" \")\n",
    "print()\n",
    "\n",
    "a.insert(1,4)\n",
    "print(\"Array after insertion: \",a)"
   ]
  },
  {
   "cell_type": "code",
   "execution_count": 15,
   "metadata": {},
   "outputs": [
    {
     "name": "stdout",
     "output_type": "stream",
     "text": [
      "\n"
     ]
    }
   ],
   "source": [
    "s = \"Python is easy to learn\"\n",
    "print(s[5:5:-1])"
   ]
  },
  {
   "cell_type": "code",
   "execution_count": 17,
   "metadata": {},
   "outputs": [
    {
     "name": "stdout",
     "output_type": "stream",
     "text": [
      "Python is very easyPython is very easyysae yrev si nohtyP"
     ]
    }
   ],
   "source": [
    "a = \"Python is very easy\"\n",
    "for i in a :\n",
    "    print(i, end=\"\")\n",
    "for i in a[::]:\n",
    "    print(i,end=\"\")\n",
    "for i in a[::-1]:\n",
    "    print(i,end=\"\")"
   ]
  },
  {
   "cell_type": "code",
   "execution_count": 19,
   "metadata": {},
   "outputs": [
    {
     "name": "stdout",
     "output_type": "stream",
     "text": [
      "1 \n",
      " 16\n"
     ]
    }
   ],
   "source": [
    "s = \"Python is an easy language\"\n",
    "print(s.find(\"y\"),\"\\n\",s.rfind(\"y\"))"
   ]
  },
  {
   "cell_type": "code",
   "execution_count": 21,
   "metadata": {},
   "outputs": [
    {
     "name": "stdout",
     "output_type": "stream",
     "text": [
      "2\n",
      "0\n",
      "2\n"
     ]
    }
   ],
   "source": [
    "s = \"Joy of giving and sharing\"\n",
    "print(s.count(\"o\"))\n",
    "print(s.count(\"j\"))\n",
    "print(s.count(\"i\",3,18))\n"
   ]
  }
 ],
 "metadata": {
  "kernelspec": {
   "display_name": "Python 3",
   "language": "python",
   "name": "python3"
  },
  "language_info": {
   "codemirror_mode": {
    "name": "ipython",
    "version": 3
   },
   "file_extension": ".py",
   "mimetype": "text/x-python",
   "name": "python",
   "nbconvert_exporter": "python",
   "pygments_lexer": "ipython3",
   "version": "3.11.9"
  }
 },
 "nbformat": 4,
 "nbformat_minor": 2
}
